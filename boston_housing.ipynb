{
 "cells": [
  {
   "cell_type": "markdown",
   "metadata": {
    "nbpresent": {
     "id": "d8af9dd1-e7f9-4b43-9dcc-83440fce2c3d"
    }
   },
   "source": [
    "# 机器学习工程师纳米学位\n",
    "## 模型评价与验证\n",
    "## 项目 1: 预测波士顿房价\n",
    "\n",
    "\n",
    "欢迎来到机器学习工程师纳米学位的第一个项目！在此文件中，有些示例代码已经提供给你，但你还需要实现更多的功能来让项目成功运行。除非有明确要求，你无须修改任何已给出的代码。以**编程练习**开始的标题表示接下来的内容中有需要你必须实现的功能。每一部分都会有详细的指导，需要实现的部分也会在注释中以**TODO**标出。请仔细阅读所有的提示！\n",
    "\n",
    "除了实现代码外，你还**必须**回答一些与项目和实现有关的问题。每一个需要你回答的问题都会以**'问题 X'**为标题。请仔细阅读每个问题，并且在问题后的**'回答'**文字框中写出完整的答案。你的项目将会根据你对问题的回答和撰写代码所实现的功能来进行评分。\n",
    "\n",
    ">**提示：**Code 和 Markdown 区域可通过 **Shift + Enter** 快捷键运行。此外，Markdown可以通过双击进入编辑模式。"
   ]
  },
  {
   "cell_type": "markdown",
   "metadata": {
    "nbpresent": {
     "id": "bde32e1b-1b14-4499-987d-c2de1ae10d14"
    }
   },
   "source": [
    "---\n",
    "## 第一步. 导入数据\n",
    "在这个项目中，你将利用马萨诸塞州波士顿郊区的房屋信息数据训练和测试一个模型，并对模型的性能和预测能力进行测试。通过该数据训练后的好的模型可以被用来对房屋做特定预测---尤其是对房屋的价值。对于房地产经纪等人的日常工作来说，这样的预测模型被证明非常有价值。\n",
    "\n",
    "此项目的数据集来自[UCI机器学习知识库(数据集已下线)](https://archive.ics.uci.edu/ml/datasets.html)。波士顿房屋这些数据于1978年开始统计，共506个数据点，涵盖了麻省波士顿不同郊区房屋14种特征的信息。本项目对原始数据集做了以下处理：\n",
    "- 有16个`'MEDV'` 值为50.0的数据点被移除。 这很可能是由于这些数据点包含**遗失**或**看不到的值**。\n",
    "- 有1个数据点的 `'RM'` 值为8.78. 这是一个异常值，已经被移除。\n",
    "- 对于本项目，房屋的`'RM'`， `'LSTAT'`，`'PTRATIO'`以及`'MEDV'`特征是必要的，其余不相关特征已经被移除。\n",
    "- `'MEDV'`特征的值已经过必要的数学转换，可以反映35年来市场的通货膨胀效应。\n",
    "\n",
    "运行下面区域的代码以载入波士顿房屋数据集，以及一些此项目所需的Python库。如果成功返回数据集的大小，表示数据集已载入成功。"
   ]
  },
  {
   "cell_type": "code",
   "execution_count": 1,
   "metadata": {
    "collapsed": true,
    "nbpresent": {
     "id": "ab3a90fa-dc80-408b-8f29-e08b54246bd3"
    }
   },
   "outputs": [],
   "source": [
    "# 载入此项目所需要的库\n",
    "import numpy as np\n",
    "import pandas as pd\n",
    "import visuals as vs # Supplementary code\n",
    "\n",
    "# 检查你的Python版本\n",
    "from sys import version_info\n",
    "if version_info.major != 2 and version_info.minor != 7:\n",
    "    raise Exception('请使用Python 2.7来完成此项目')\n",
    "    \n",
    "# 让结果在notebook中显示\n",
    "%matplotlib inline"
   ]
  },
  {
   "cell_type": "code",
   "execution_count": 2,
   "metadata": {
    "nbpresent": {
     "id": "c9d11ae1-6859-4ea5-8b0a-042c3db02d91"
    }
   },
   "outputs": [
    {
     "name": "stdout",
     "output_type": "stream",
     "text": [
      "Boston housing dataset has 489 data points with 4 variables each.\n"
     ]
    }
   ],
   "source": [
    "# 载入波士顿房屋的数据集\n",
    "data = pd.read_csv('housing.csv')\n",
    "prices = data['MEDV']\n",
    "features = data.drop('MEDV', axis = 1)\n",
    "    \n",
    "# 完成\n",
    "print \"Boston housing dataset has {} data points with {} variables each.\".format(*data.shape)"
   ]
  },
  {
   "cell_type": "markdown",
   "metadata": {
    "nbpresent": {
     "id": "202a798c-65d0-463e-b95a-f743b215a137"
    }
   },
   "source": [
    "---\n",
    "## 第二步. 分析数据\n",
    "在项目的第一个部分，你会对波士顿房地产数据进行初步的观察并给出你的分析。通过对数据的探索来熟悉数据可以让你更好地理解和解释你的结果。\n",
    "\n",
    "由于这个项目的最终目标是建立一个预测房屋价值的模型，我们需要将数据集分为**特征(features)**和**目标变量(target variable)**。\n",
    "- **特征** `'RM'`， `'LSTAT'`，和 `'PTRATIO'`，给我们提供了每个数据点的数量相关的信息。\n",
    "- **目标变量**：` 'MEDV'`，是我们希望预测的变量。\n",
    "\n",
    "他们分别被存在`features`和`prices`两个变量名中。"
   ]
  },
  {
   "cell_type": "markdown",
   "metadata": {
    "nbpresent": {
     "id": "76715cf6-6103-4771-a9e8-f0d75b1b008d"
    }
   },
   "source": [
    "### 编程练习 1：基础统计运算\n",
    "你的第一个编程练习是计算有关波士顿房价的描述统计数据。我们已为你导入了` numpy `，你需要使用这个库来执行必要的计算。这些统计数据对于分析模型的预测结果非常重要的。\n",
    "在下面的代码中，你要做的是：\n",
    "- 计算`prices`中的`'MEDV'`的最小值、最大值、均值、中值和标准差；\n",
    "- 将运算结果储存在相应的变量中。"
   ]
  },
  {
   "cell_type": "code",
   "execution_count": 3,
   "metadata": {
    "nbpresent": {
     "id": "fde294d7-9f59-4fcb-895f-9dbee6ba2a11"
    }
   },
   "outputs": [
    {
     "name": "stdout",
     "output_type": "stream",
     "text": [
      "Statistics for Boston housing dataset:\n",
      "\n",
      "Minimum price: $105,000.00\n",
      "Maximum price: $1,024,800.00\n",
      "Mean price: $454,342.94\n",
      "Median price $438,900.00\n",
      "Standard deviation of prices: $165,171.13\n"
     ]
    }
   ],
   "source": [
    "#TODO 1\n",
    "\n",
    "#目标：计算价值的最小值\n",
    "minimum_price = np.min(prices)\n",
    "\n",
    "#目标：计算价值的最大值\n",
    "maximum_price = np.max(prices)\n",
    "\n",
    "#目标：计算价值的平均值\n",
    "mean_price = np.mean(prices)\n",
    "\n",
    "#目标：计算价值的中值\n",
    "median_price = np.median(prices)\n",
    "\n",
    "#目标：计算价值的标准差\n",
    "std_price = np.std(prices)\n",
    "\n",
    "#目标：输出计算的结果\n",
    "print \"Statistics for Boston housing dataset:\\n\"\n",
    "print \"Minimum price: ${:,.2f}\".format(minimum_price)\n",
    "print \"Maximum price: ${:,.2f}\".format(maximum_price)\n",
    "print \"Mean price: ${:,.2f}\".format(mean_price)\n",
    "print \"Median price ${:,.2f}\".format(median_price)\n",
    "print \"Standard deviation of prices: ${:,.2f}\".format(std_price)"
   ]
  },
  {
   "cell_type": "code",
   "execution_count": 4,
   "metadata": {
    "nbpresent": {
     "id": "2482c205-5614-46a4-afed-4b161935ac27"
    }
   },
   "outputs": [
    {
     "data": {
      "text/plain": [
       "count    4.890000e+02\n",
       "mean     4.543429e+05\n",
       "std      1.653403e+05\n",
       "min      1.050000e+05\n",
       "25%      3.507000e+05\n",
       "50%      4.389000e+05\n",
       "75%      5.187000e+05\n",
       "max      1.024800e+06\n",
       "Name: MEDV, dtype: float64"
      ]
     },
     "execution_count": 4,
     "metadata": {},
     "output_type": "execute_result"
    }
   ],
   "source": [
    "prices.describe()"
   ]
  },
  {
   "cell_type": "markdown",
   "metadata": {
    "nbpresent": {
     "id": "312a7511-a9c6-4474-b2de-301048deeba0"
    }
   },
   "source": [
    "### 问题 1 - 特征观察\n",
    "\n",
    "如前文所述，本项目中我们关注的是其中三个值:`'RM'`、`'LSTAT'` 和`'PTRATIO'`，对每一个数据点:\n",
    "- `'RM'` 是该地区中每个房屋的平均房间数量；\n",
    "- `'LSTAT'` 是指该地区有多少百分比的业主属于是低收入阶层（有工作但收入微薄）；\n",
    "- `'PTRATIO'` 是该地区的中学和小学里，学生和老师的数目比（`学生/老师`）。\n",
    "\n",
    "_凭直觉，上述三个特征中对每一个来说，你认为增大该特征的数值，`'MEDV'`的值会是**增大**还是**减小**呢？每一个答案都需要你给出理由。_\n",
    "\n",
    "**提示：**你预期一个`'RM'` 值是6的房屋跟`'RM'` 值是7的房屋相比，价值更高还是更低呢？"
   ]
  },
  {
   "cell_type": "code",
   "execution_count": 5,
   "metadata": {},
   "outputs": [
    {
     "data": {
      "text/plain": [
       "MEDV       1.000000\n",
       "RM         0.697209\n",
       "PTRATIO   -0.519034\n",
       "LSTAT     -0.760670\n",
       "Name: MEDV, dtype: float64"
      ]
     },
     "execution_count": 5,
     "metadata": {},
     "output_type": "execute_result"
    }
   ],
   "source": [
    "data.corr()['MEDV'].sort_values(ascending=False)"
   ]
  },
  {
   "cell_type": "markdown",
   "metadata": {
    "nbpresent": {
     "id": "a8b3a014-6528-443d-9337-1310a1a42210"
    }
   },
   "source": [
    "### 问题 1 - 回答：\n",
    "1. 由于RM与MEDV相关系数为>0, RM增大，MEDV增大。且房间越多价格越贵。\n",
    "2. 由于LSTAT与MEDV相关系数为<0，LSTAT增大，MEDV减小。且穷人越多，周边房价越便宜。\n",
    "3. 由于PTRATIO与MEDV相关系数为<0, PTRATIO增大，MEDV减小。且学生多，对房屋的需求量小，房价越便宜。"
   ]
  },
  {
   "cell_type": "markdown",
   "metadata": {
    "nbpresent": {
     "id": "5d534794-8df1-4c9b-93e6-242cf034e193"
    }
   },
   "source": [
    "### 编程练习 2: 数据分割与重排\n",
    "接下来，你需要把波士顿房屋数据集分成训练和测试两个子集。通常在这个过程中，数据也会被重排列，以消除数据集中由于顺序而产生的偏差。\n",
    "在下面的代码中，你需要\n",
    "\n",
    "使用 `sklearn.model_selection` 中的 `train_test_split`， 将`features`和`prices`的数据都分成用于训练的数据子集和用于测试的数据子集。\n",
    "  - 分割比例为：80%的数据用于训练，20%用于测试；\n",
    "  - 选定一个数值以设定 `train_test_split` 中的 `random_state` ，这会确保结果的一致性；"
   ]
  },
  {
   "cell_type": "code",
   "execution_count": 6,
   "metadata": {
    "collapsed": true,
    "nbpresent": {
     "id": "e9f62a18-a159-4d6b-97c2-8974c8951551"
    }
   },
   "outputs": [],
   "source": [
    "# TODO 2\n",
    "\n",
    "# 提示： 导入train_test_split\n",
    "from sklearn.model_selection import train_test_split\n",
    "X_train, X_test, y_train, y_test = train_test_split(features, prices, test_size=0.2, random_state=42)"
   ]
  },
  {
   "cell_type": "markdown",
   "metadata": {
    "nbpresent": {
     "id": "1ecebd7d-f75f-460c-a9c0-caf59ebb227a"
    }
   },
   "source": [
    "### 问题 2 - 训练及测试\n",
    "*将数据集按一定比例分为训练用的数据集和测试用的数据集对学习算法有什么好处？*\n",
    "\n",
    "*如果用模型已经见过的数据，例如部分训练集数据进行测试，又有什么坏处？*\n",
    "\n",
    "**提示：** 如果没有数据来对模型进行测试，会出现什么问题？"
   ]
  },
  {
   "cell_type": "markdown",
   "metadata": {
    "nbpresent": {
     "id": "b5140149-7ba0-4e48-bc4c-99e2573b8143"
    }
   },
   "source": [
    "### 问题 2 - 回答:\n",
    "1. 将训练和测试数据分开，可以有效的测试模型的泛化能力。通过比较模型在测试集和训练集的表现，判断模型是否出现欠拟合或过拟合。\n",
    "2. 用训练数据测试只能说明模型对训练数据的预测效果，无法验证模型的泛化能力。也就是当遇到模型没有见过的数据时，模型的表现情况。"
   ]
  },
  {
   "cell_type": "markdown",
   "metadata": {
    "nbpresent": {
     "id": "1166d413-685e-4aa6-8e76-494fc743b84e"
    }
   },
   "source": [
    "---\n",
    "## 第三步. 模型衡量标准\n",
    "在项目的第三步中，你需要了解必要的工具和技巧来让你的模型进行预测。用这些工具和技巧对每一个模型的表现做精确的衡量可以极大地增强你预测的信心。"
   ]
  },
  {
   "cell_type": "markdown",
   "metadata": {
    "nbpresent": {
     "id": "6a720578-10b8-4d52-92f1-a45ae783714b"
    }
   },
   "source": [
    "### 编程练习3：定义衡量标准\n",
    "如果不能对模型的训练和测试的表现进行量化地评估，我们就很难衡量模型的好坏。通常我们会定义一些衡量标准，这些标准可以通过对某些误差或者拟合程度的计算来得到。在这个项目中，你将通过运算[*决定系数*](http://stattrek.com/statistics/dictionary.aspx?definition=coefficient_of_determination) R<sup>2</sup> 来量化模型的表现。模型的决定系数是回归分析中十分常用的统计信息，经常被当作衡量模型预测能力好坏的标准。\n",
    "\n",
    "R<sup>2</sup>的数值范围从0至1，表示**目标变量**的预测值和实际值之间的相关程度平方的百分比。一个模型的R<sup>2</sup> 值为0还不如直接用**平均值**来预测效果好；而一个R<sup>2</sup> 值为1的模型则可以对目标变量进行完美的预测。从0至1之间的数值，则表示该模型中目标变量中有百分之多少能够用**特征**来解释。_模型也可能出现负值的R<sup>2</sup>，这种情况下模型所做预测有时会比直接计算目标变量的平均值差很多。_\n",
    "\n",
    "在下方代码的 `performance_metric` 函数中，你要实现：\n",
    "- 使用 `sklearn.metrics` 中的 [`r2_score`](http://scikit-learn.org/stable/modules/generated/sklearn.metrics.r2_score.html) 来计算 `y_true` 和 `y_predict`的R<sup>2</sup>值，作为对其表现的评判。\n",
    "- 将他们的表现评分储存到`score`变量中。\n",
    "\n",
    "或 \n",
    "\n",
    "- (可选) 不使用任何外部库，参考[决定系数的定义](https://en.wikipedia.org/wiki/Coefficient_of_determination)进行计算，这也可以帮助你更好的理解决定系数在什么情况下等于0或等于1。"
   ]
  },
  {
   "cell_type": "code",
   "execution_count": 7,
   "metadata": {
    "collapsed": true,
    "nbpresent": {
     "id": "67f4a5af-a454-434b-93c2-2e3c4ed6bedb"
    }
   },
   "outputs": [],
   "source": [
    "# TODO 3\n",
    "\n",
    "# 提示： 导入r2_score\n",
    "from sklearn.metrics import r2_score\n",
    "def performance_metric(y_true, y_predict):\n",
    "    \"\"\"计算并返回预测值相比于预测值的分数\"\"\"\n",
    "    \n",
    "    score = r2_score(y_true, y_predict)\n",
    "\n",
    "    return score"
   ]
  },
  {
   "cell_type": "code",
   "execution_count": 8,
   "metadata": {
    "collapsed": true,
    "nbpresent": {
     "id": "2a7ecd10-9fc2-46c8-8d94-f16b1d6bd3aa"
    }
   },
   "outputs": [],
   "source": [
    "# TODO 3 可选\n",
    "\n",
    "# 不允许导入任何计算决定系数的库\n",
    "\n",
    "def performance_metric2(y_true, y_predict):\n",
    "    \"\"\"计算并返回预测值相比于预测值的分数\"\"\"\n",
    "    \n",
    "    score = None\n",
    "\n",
    "    return score"
   ]
  },
  {
   "cell_type": "markdown",
   "metadata": {
    "nbpresent": {
     "id": "5f96a493-65a2-4d23-8753-4be3d2d3df8c"
    }
   },
   "source": [
    "### 问题 3 - 拟合程度\n",
    "\n",
    "假设一个数据集有五个数据且一个模型做出下列目标变量的预测：\n",
    "\n",
    "| 真实数值 | 预测数值 |\n",
    "| :-------------: | :--------: |\n",
    "| 3.0 | 2.5 |\n",
    "| -0.5 | 0.0 |\n",
    "| 2.0 | 2.1 |\n",
    "| 7.0 | 7.8 |\n",
    "| 4.2 | 5.3 |\n",
    "*你觉得这个模型已成功地描述了目标变量的变化吗？如果成功，请解释为什么，如果没有，也请给出原因。*  \n",
    "\n",
    "**提示**：运行下方的代码，使用`performance_metric`函数来计算模型的决定系数。"
   ]
  },
  {
   "cell_type": "code",
   "execution_count": 9,
   "metadata": {
    "nbpresent": {
     "id": "73b856df-1785-4ab7-bc38-9878f57961c9"
    }
   },
   "outputs": [
    {
     "name": "stdout",
     "output_type": "stream",
     "text": [
      "Model has a coefficient of determination, R^2, of 0.923.\n"
     ]
    }
   ],
   "source": [
    "# 计算这个模型的预测结果的决定系数\n",
    "score = performance_metric([3, -0.5, 2, 7, 4.2], [2.5, 0.0, 2.1, 7.8, 5.3])\n",
    "print \"Model has a coefficient of determination, R^2, of {:.3f}.\".format(score)"
   ]
  },
  {
   "cell_type": "markdown",
   "metadata": {
    "nbpresent": {
     "id": "e7573271-83db-47a0-becf-d73a058f9c36"
    }
   },
   "source": [
    "### 问题 3 - 回答:\n",
    "得分为0.923，最大值为1.说明已经可以很好的描述目标变量的变化情况。"
   ]
  },
  {
   "cell_type": "markdown",
   "metadata": {
    "nbpresent": {
     "id": "fa950628-1521-4a6e-aab7-95308a207f90"
    }
   },
   "source": [
    "---\n",
    "## 第四步. 分析模型的表现\n",
    "在项目的第四步，我们来看一下不同参数下，模型在训练集和验证集上的表现。这里，我们专注于一个特定的算法（带剪枝的决策树，但这并不是这个项目的重点），和这个算法的一个参数 `'max_depth'`。用全部训练集训练，选择不同`'max_depth'` 参数，观察这一参数的变化如何影响模型的表现。画出模型的表现来对于分析过程十分有益，这可以让我们看到一些单看结果看不到的行为。"
   ]
  },
  {
   "cell_type": "markdown",
   "metadata": {
    "nbpresent": {
     "id": "f45a7578-f199-49b1-b780-680825733359"
    }
   },
   "source": [
    "### 学习曲线\n",
    "下方区域内的代码会输出四幅图像，它们是一个决策树模型在不同最大深度下的表现。每一条曲线都直观得显示了随着训练数据量的增加，模型学习曲线的在训练集评分和验证集评分的变化，评分使用决定系数R<sup>2</sup>。曲线的阴影区域代表的是该曲线的不确定性（用标准差衡量）。\n",
    "\n",
    "运行下方区域中的代码，并利用输出的图形回答下面的问题。"
   ]
  },
  {
   "cell_type": "code",
   "execution_count": 10,
   "metadata": {
    "nbpresent": {
     "id": "d85b262e-75da-41eb-9d38-6bd7b3e0c062"
    },
    "scrolled": false
   },
   "outputs": [
    {
     "data": {
      "image/png": "[encoded data removed]",
      "text/plain": [
       "<matplotlib.figure.Figure at 0x7f38247b45d0>"
      ]
     },
     "metadata": {},
     "output_type": "display_data"
    }
   ],
   "source": [
    "# 根据不同的训练集大小，和最大深度，生成学习曲线\n",
    "vs.ModelLearning(X_train, y_train)"
   ]
  },
  {
   "cell_type": "markdown",
   "metadata": {
    "nbpresent": {
     "id": "a15c0445-6c30-4351-b715-a9ca39463e5f"
    }
   },
   "source": [
    "### 问题 4 - 学习曲线\n",
    "*选择上述图像中的其中一个，并给出其最大深度。随着训练数据量的增加，训练集曲线的评分有怎样的变化？验证集曲线呢？如果有更多的训练数据，是否能有效提升模型的表现呢？*\n",
    "\n",
    "**提示：**学习曲线的评分是否最终会收敛到特定的值？"
   ]
  },
  {
   "cell_type": "markdown",
   "metadata": {
    "nbpresent": {
     "id": "3d31294c-e638-4c22-8138-1aefc0db70bd"
    }
   },
   "source": [
    "### 问题 4 - 回答:\n",
    "max_depth=3\n",
    "1. 随着训练数据的增加，训练集曲线会逐渐降低并趋于平缓。验证集曲线会逐渐上升并趋于平缓。\n",
    "2. 有更多的训练数据，可以使提升模型的表现。\n",
    "3. 最终会收敛到一个特定的值。"
   ]
  },
  {
   "cell_type": "markdown",
   "metadata": {
    "nbpresent": {
     "id": "2a03a6ae-cbbd-4d21-bc40-0bdd240b0255"
    }
   },
   "source": [
    "### 复杂度曲线\n",
    "下列代码内的区域会输出一幅图像，它展示了一个已经经过训练和验证的决策树模型在不同最大深度条件下的表现。这个图形将包含两条曲线，一个是训练集的变化，一个是验证集的变化。跟**学习曲线**相似，阴影区域代表该曲线的不确定性，模型训练和测试部分的评分都用的 `performance_metric` 函数。\n",
    "\n",
    "运行下方区域中的代码，并利用输出的图形并回答下面的两个问题。"
   ]
  },
  {
   "cell_type": "code",
   "execution_count": 11,
   "metadata": {
    "nbpresent": {
     "id": "34c2e6c5-94d9-4ac1-ba57-8bd48779ec1f"
    }
   },
   "outputs": [
    {
     "data": {
      "image/png": "[encoded data removed]",
      "text/plain": [
       "<matplotlib.figure.Figure at 0x7f3820f8c510>"
      ]
     },
     "metadata": {},
     "output_type": "display_data"
    }
   ],
   "source": [
    "# 根据不同的最大深度参数，生成复杂度曲线\n",
    "vs.ModelComplexity(X_train, y_train)"
   ]
  },
  {
   "cell_type": "markdown",
   "metadata": {
    "nbpresent": {
     "id": "d030b8ef-3041-4df6-b6e5-9d2857481509"
    }
   },
   "source": [
    "### 问题 5 - 偏差（bias）与方差（variance）之间的权衡取舍\n",
    "*当模型以最大深度 1训练时，模型的预测是出现很大的偏差还是出现了很大的方差？当模型以最大深度10训练时，情形又如何呢？图形中的哪些特征能够支持你的结论？*\n",
    "  \n",
    "**提示：** 你如何得知模型是否出现了偏差很大或者方差很大的问题？"
   ]
  },
  {
   "cell_type": "markdown",
   "metadata": {
    "nbpresent": {
     "id": "ffb9337a-c0b2-4536-b89e-1b474e237ee7"
    }
   },
   "source": [
    "### 问题 5 - 回答:\n",
    "1. max_depth=1时，模型预测由于欠拟合，出现较大的偏差。训练集和验证集的r2_score均很低，说明模型欠拟合。\n",
    "2. max_depth=10时，模型预测由于过拟合，出现较大方差。训练集r2_score很高，但是验证集r2_score很低且标准差很大，说明模型过拟合。"
   ]
  },
  {
   "cell_type": "markdown",
   "metadata": {
    "nbpresent": {
     "id": "a7566f24-0398-4e0c-b24f-f826d1fff8d1"
    }
   },
   "source": [
    "### 问题 6- 最优模型的猜测\n",
    "*结合问题 5 中的图，你认为最大深度是多少的模型能够最好地对未见过的数据进行预测？你得出这个答案的依据是什么？*"
   ]
  },
  {
   "cell_type": "markdown",
   "metadata": {
    "nbpresent": {
     "id": "15b75473-548d-422d-92a7-0c2458995aca"
    }
   },
   "source": [
    "### 问题 6 - 回答:\n",
    "max_depth=4能够最好的对未见过的数据进行预测。\n",
    "1. 图5中，max_depth=3时，随着训练集数量的增加，验证集曲线与测试集曲线逐渐接近，且趋于收敛。r2_score收敛与0.8左右，说明模型能够较好的反映数据集并且能对未见过的数据有很好的预测。而max_depth=6时，明显出现过拟合的情况。因此最优max_depth应该在3～6之间。\n",
    "2. 图6中，max_depth=4时，验证集曲线的r2_score最大。当max_depth继续增加，验证集r2_score开始降低且与训练集曲线之间间隔开始增大，说明开始出现模型过拟合的情况。因此选择max_depth=4"
   ]
  },
  {
   "cell_type": "markdown",
   "metadata": {
    "nbpresent": {
     "id": "f5fb66ca-caec-457b-8667-6f6ee4ab908d"
    }
   },
   "source": [
    "---\n",
    "## 第五步. 选择最优参数"
   ]
  },
  {
   "cell_type": "markdown",
   "metadata": {
    "nbpresent": {
     "id": "53ad0beb-d5a5-4922-98e9-9a5e2e8f3a50"
    }
   },
   "source": [
    "### 问题 7- 网格搜索（Grid Search）\n",
    "*什么是网格搜索法？如何用它来优化模型？*\n"
   ]
  },
  {
   "cell_type": "markdown",
   "metadata": {
    "nbpresent": {
     "id": "d77fc087-52c5-4a57-a89c-85acb146b087"
    }
   },
   "source": [
    "### 问题 7 - 回答:\n",
    "1. 针对传入参数params字典中的各类参数进行组合，分别应用到指定的模型estimator中。\n",
    "2. 对每一组参数进行交叉验证，根据传入的scoring函数得到验证集上的得分。\n",
    "2. 取验证集上表现最好的参数组合作为最优模型参数。"
   ]
  },
  {
   "cell_type": "markdown",
   "metadata": {
    "nbpresent": {
     "id": "8313ff34-2b08-4ab0-8712-ce1fbcb0e5e0"
    }
   },
   "source": [
    "### 问题 8 - 交叉验证\n",
    "- 什么是K折交叉验证法（k-fold cross-validation）？\n",
    "- [GridSearchCV](http://scikit-learn.org/stable/modules/generated/sklearn.model_selection.GridSearchCV.html)是如何结合交叉验证来完成对最佳参数组合的选择的？\n",
    "- [GridSearchCV](http://scikit-learn.org/stable/modules/generated/sklearn.model_selection.GridSearchCV.html)中的`'cv_results_'`属性能告诉我们什么？\n",
    "- 网格搜索时如果不使用交叉验证会有什么问题？交叉验证又是如何解决这个问题的？\n",
    "\n",
    "**提示：** 在下面 fit_model函数最后加入 `print pd.DataFrame(grid.cv_results_)` 可以帮你查看更多信息。"
   ]
  },
  {
   "cell_type": "markdown",
   "metadata": {
    "nbpresent": {
     "id": "aa1edc00-f062-4b14-9756-f09ae2859fe5"
    }
   },
   "source": [
    "### 问题 8 - 回答：\n",
    "1. 将训练集分为k等份，每次选取其中一份作为验证集，剩余部分作为训练集。进行k次，每次使用训练集训练，验证集验证性能，得到每次的评估结果。\n",
    "2. GridSearchCV在对每个参数组合进行验证时使用交叉验证，将cv的均值作为评价结果。对比各类组合的评估结果，得到最优的参数组合。\n",
    "3. cv_results中以字典的形式保存着有各种参数组合在进行网格搜索中的指标值。\n",
    "4. 评分方法是它进行了多次验证，并取了多次评分的平均值，可以充分利用数据。同时如果数据量不大，随机性也不够好，比如分布有顺序性，那么分出来的验证集有可能只包含数据集中一种特点的数据，这时候在验证集上得到的分数可能是不准确的。如果使用交叉验证，那么就会取多次不同的验证集分数的平均值，多次取平均值能够减少对模型表现评分的误差，这样就可以更准确地找到最优参数。"
   ]
  },
  {
   "cell_type": "markdown",
   "metadata": {
    "nbpresent": {
     "id": "fb9cb7e9-153e-4c3e-bdba-da84e5c03afd"
    }
   },
   "source": [
    "### 编程练习 4：训练最优模型\n",
    "在这个练习中，你将需要将所学到的内容整合，使用**决策树算法**训练一个模型。为了得出的是一个最优模型，你需要使用网格搜索法训练模型，以找到最佳的 `'max_depth'` 参数。你可以把`'max_depth'` 参数理解为决策树算法在做出预测前，允许其对数据提出问题的数量。决策树是**监督学习算法**中的一种。\n",
    "\n",
    "在下方 `fit_model` 函数中，你需要做的是：\n",
    "1. **定义 `'cross_validator'` 变量**: 使用 `sklearn.model_selection` 中的 [`KFold`](http://scikit-learn.org/stable/modules/generated/sklearn.model_selection.KFold.html) 创建一个交叉验证生成器对象;\n",
    "2. **定义 `'regressor'` 变量**: 使用  `sklearn.tree` 中的 [`DecisionTreeRegressor`](http://scikit-learn.org/stable/modules/generated/sklearn.tree.DecisionTreeRegressor.html) 创建一个决策树的回归函数;\n",
    "3. **定义 `'params'` 变量**: 为 `'max_depth'` 参数创造一个字典，它的值是从1至10的数组;\n",
    "4. **定义 `'scoring_fnc'` 变量**: 使用 `sklearn.metrics` 中的 [`make_scorer`](http://scikit-learn.org/stable/modules/generated/sklearn.metrics.make_scorer.html)  创建一个评分函数；\n",
    " 将 `‘performance_metric’` 作为参数传至这个函数中；\n",
    "5. **定义 `'grid'` 变量**: 使用 `sklearn.model_selection` 中的 [`GridSearchCV`](http://scikit-learn.org/stable/modules/generated/sklearn.model_selection.GridSearchCV.html) 创建一个网格搜索对象；将变量`'regressor'`, `'params'`, `'scoring_fnc'`和 `'cross_validator'` 作为参数传至这个对象构造函数中；\n",
    "  \n",
    "如果你对python函数的默认参数定义和传递不熟悉，可以参考这个MIT课程的[视频](http://cn-static.udacity.com/mlnd/videos/MIT600XXT114-V004200_DTH.mp4)。"
   ]
  },
  {
   "cell_type": "code",
   "execution_count": 12,
   "metadata": {
    "collapsed": true,
    "nbpresent": {
     "id": "cb32df4e-5d25-4a73-97da-8089e70fcfca"
    }
   },
   "outputs": [],
   "source": [
    "# TODO 4\n",
    "\n",
    "#提示: 导入 'KFold' 'DecisionTreeRegressor' 'make_scorer' 'GridSearchCV' \n",
    "from sklearn.tree import DecisionTreeRegressor\n",
    "from sklearn.model_selection import KFold\n",
    "from sklearn.metrics import make_scorer\n",
    "from sklearn.model_selection import GridSearchCV\n",
    "\n",
    "def fit_model(X, y):\n",
    "    \"\"\" 基于输入数据 [X,y]，利于网格搜索找到最优的决策树模型\"\"\"\n",
    "    \n",
    "    cross_validator = KFold(10, shuffle=True, random_state=42)\n",
    "    \n",
    "    regressor = DecisionTreeRegressor()\n",
    "\n",
    "    params = {'max_depth': [1,2,3,4,5,6,7,8,9,10]}\n",
    "\n",
    "    scoring_fnc = make_scorer(performance_metric)\n",
    "\n",
    "    grid = GridSearchCV(regressor, params, scoring=scoring_fnc, cv=cross_validator)\n",
    "\n",
    "    # 基于输入数据 [X,y]，进行网格搜索\n",
    "    grid = grid.fit(X, y)\n",
    "\n",
    "    # 返回网格搜索后的最优模型\n",
    "    return grid.best_estimator_"
   ]
  },
  {
   "cell_type": "markdown",
   "metadata": {
    "nbpresent": {
     "id": "7382c6bc-9c14-46f3-8e95-29f2d91497be"
    }
   },
   "source": [
    "### 编程练习 4：训练最优模型 （可选）\n",
    "在这个练习中，你将需要将所学到的内容整合，使用**决策树算法**训练一个模型。为了得出的是一个最优模型，你需要使用网格搜索法训练模型，以找到最佳的 `'max_depth'` 参数。你可以把`'max_depth'` 参数理解为决策树算法在做出预测前，允许其对数据提出问题的数量。决策树是**监督学习算法**中的一种。\n",
    "\n",
    "在下方 `fit_model` 函数中，你需要做的是：\n",
    "\n",
    "- 遍历参数`‘max_depth’`的可选值 1～10，构造对应模型\n",
    "- 计算当前模型的交叉验证分数\n",
    "- 返回最优交叉验证分数对应的模型"
   ]
  },
  {
   "cell_type": "code",
   "execution_count": 13,
   "metadata": {
    "collapsed": true,
    "nbpresent": {
     "id": "cbb7a9a6-9138-4992-b9e5-353b5d618b59"
    }
   },
   "outputs": [],
   "source": [
    "# TODO 4 可选\n",
    "\n",
    "'''\n",
    "不允许使用 DecisionTreeRegressor 以外的任何 sklearn 库\n",
    "\n",
    "提示: 你可能需要实现下面的 cross_val_score 函数\n",
    "\n",
    "def cross_val_score(estimator, X, y, scoring = performance_metric, cv=3):\n",
    "    \"\"\" 返回每组交叉验证的模型分数的数组 \"\"\"\n",
    "    scores = [0,0,0]\n",
    "    return scores\n",
    "'''\n",
    "\n",
    "def fit_model2(X, y):\n",
    "    \"\"\" 基于输入数据 [X,y]，利于网格搜索找到最优的决策树模型\"\"\"\n",
    "    \n",
    "    #最优交叉验证分数对应的最优模型\n",
    "    best_estimator = None\n",
    "    \n",
    "    return best_estimator"
   ]
  },
  {
   "cell_type": "markdown",
   "metadata": {
    "nbpresent": {
     "id": "2289738d-d218-4252-8e9a-b6e1b4db371b"
    }
   },
   "source": [
    "### 问题 9 - 最优模型\n",
    "*最优模型的最大深度（maximum depth）是多少？此答案与你在**问题 6**所做的猜测是否相同？*\n",
    "\n",
    "运行下方区域内的代码，将决策树回归函数代入训练数据的集合，以得到最优化的模型。"
   ]
  },
  {
   "cell_type": "code",
   "execution_count": 14,
   "metadata": {
    "nbpresent": {
     "id": "5a68ce4d-a3f7-4656-9e24-1989475633c2"
    },
    "scrolled": true
   },
   "outputs": [
    {
     "name": "stdout",
     "output_type": "stream",
     "text": [
      "Parameter 'max_depth' is 4 for the optimal model.\n"
     ]
    }
   ],
   "source": [
    "# 基于训练数据，获得最优模型\n",
    "optimal_reg = fit_model(X_train, y_train)\n",
    "\n",
    "# 输出最优模型的 'max_depth' 参数\n",
    "print \"Parameter 'max_depth' is {} for the optimal model.\".format(optimal_reg.get_params()['max_depth'])"
   ]
  },
  {
   "cell_type": "markdown",
   "metadata": {
    "nbpresent": {
     "id": "2a8ca3e3-7d76-46a9-9631-ee65d2d85833"
    }
   },
   "source": [
    "### 问题 9 - 回答：\n",
    "结果相同，max_depth=4最优。"
   ]
  },
  {
   "cell_type": "markdown",
   "metadata": {
    "nbpresent": {
     "id": "ebba2cb5-6161-49d1-9b8c-1197b4bef4bc"
    }
   },
   "source": [
    "## 第六步. 做出预测\n",
    "当我们用数据训练出一个模型，它现在就可用于对新的数据进行预测。在决策树回归函数中，模型已经学会对新输入的数据*提问*，并返回对**目标变量**的预测值。你可以用这个预测来获取数据未知目标变量的信息，这些数据必须是不包含在训练数据之内的。"
   ]
  },
  {
   "cell_type": "markdown",
   "metadata": {
    "nbpresent": {
     "id": "3b62e861-469a-4489-9886-8a4abfbf99f5"
    }
   },
   "source": [
    "### 问题 10 - 预测销售价格\n",
    "想像你是一个在波士顿地区的房屋经纪人，并期待使用此模型以帮助你的客户评估他们想出售的房屋。你已经从你的三个客户收集到以下的资讯:\n",
    "\n",
    "| 特征 | 客戶 1 | 客戶 2 | 客戶 3 |\n",
    "| :---: | :---: | :---: | :---: |\n",
    "| 房屋内房间总数 | 5 间房间 | 4 间房间 | 8 间房间 |\n",
    "| 社区贫困指数（％被认为是贫困阶层） | 17% | 32% | 3% |\n",
    "| 邻近学校的学生-老师比例 | 15：1 | 22：1 | 12：1 |\n",
    "\n",
    "*你会建议每位客户的房屋销售的价格为多少？从房屋特征的数值判断，这样的价格合理吗？为什么？* \n",
    "\n",
    "**提示：**用你在**分析数据**部分计算出来的统计信息来帮助你证明你的答案。\n",
    "\n",
    "运行下列的代码区域，使用你优化的模型来为每位客户的房屋价值做出预测。"
   ]
  },
  {
   "cell_type": "code",
   "execution_count": 15,
   "metadata": {
    "nbpresent": {
     "id": "a797e64f-2c44-4487-9766-9483fab681f0"
    }
   },
   "outputs": [
    {
     "name": "stdout",
     "output_type": "stream",
     "text": [
      "Predicted selling price for Client 1's home: $403,025.00\n",
      "Predicted selling price for Client 2's home: $237,478.72\n",
      "Predicted selling price for Client 3's home: $931,636.36\n"
     ]
    }
   ],
   "source": [
    "# 生成三个客户的数据\n",
    "client_data = [[5, 17, 15], # 客户 1\n",
    "               [4, 32, 22], # 客户 2\n",
    "               [8, 3, 12]]  # 客户 3\n",
    "\n",
    "# 进行预测\n",
    "predicted_price = optimal_reg.predict(client_data)\n",
    "for i, price in enumerate(predicted_price):\n",
    "    print \"Predicted selling price for Client {}'s home: ${:,.2f}\".format(i+1, price)"
   ]
  },
  {
   "cell_type": "code",
   "execution_count": 36,
   "metadata": {},
   "outputs": [
    {
     "data": {
      "text/plain": [
       "count        54.000000\n",
       "mean     420933.333333\n",
       "std       56503.257545\n",
       "min      275100.000000\n",
       "25%      385350.000000\n",
       "50%      414750.000000\n",
       "75%      460950.000000\n",
       "max      554400.000000\n",
       "Name: MEDV, dtype: float64"
      ]
     },
     "execution_count": 36,
     "metadata": {},
     "output_type": "execute_result"
    }
   ],
   "source": [
    "data.MEDV[(data.RM >=5) & (data.RM < 6) & (data.LSTAT >10) & (data.LSTAT<20) & (data.PTRATIO > 10) & (data.PTRATIO <20)].describe()"
   ]
  },
  {
   "cell_type": "code",
   "execution_count": 37,
   "metadata": {},
   "outputs": [
    {
     "data": {
      "text/plain": [
       "count         6.000000\n",
       "mean     250250.000000\n",
       "std       83857.253711\n",
       "min      147000.000000\n",
       "25%      192150.000000\n",
       "50%      252000.000000\n",
       "75%      289800.000000\n",
       "max      375900.000000\n",
       "Name: MEDV, dtype: float64"
      ]
     },
     "execution_count": 37,
     "metadata": {},
     "output_type": "execute_result"
    }
   ],
   "source": [
    "data.MEDV[(data.RM >=4) & (data.RM < 5) & (data.LSTAT >30) & (data.LSTAT<40) & (data.PTRATIO > 20) & (data.PTRATIO <30)].describe()"
   ]
  },
  {
   "cell_type": "code",
   "execution_count": 38,
   "metadata": {},
   "outputs": [
    {
     "data": {
      "text/plain": [
       "count    7.000000e+00\n",
       "mean     9.081000e+05\n",
       "std      9.151164e+04\n",
       "min      7.896000e+05\n",
       "25%      8.442000e+05\n",
       "50%      8.988000e+05\n",
       "75%      9.775500e+05\n",
       "max      1.024800e+06\n",
       "Name: MEDV, dtype: float64"
      ]
     },
     "execution_count": 38,
     "metadata": {},
     "output_type": "execute_result"
    }
   ],
   "source": [
    "data.MEDV[(data.RM >=8) & (data.RM < 9) & (data.LSTAT >0) & (data.LSTAT<10) & (data.PTRATIO > 10) & (data.PTRATIO <20)].describe()"
   ]
  },
  {
   "cell_type": "markdown",
   "metadata": {
    "nbpresent": {
     "id": "c3898116-3298-4fe5-b806-0dca4ea49923"
    }
   },
   "source": [
    "### 问题 10 - 回答：\n",
    "1. 客户1：$403,025.00，客户2：$237,478.72，客户3：$931,636.36\n",
    "2. 比较合理。\n",
    "3. 对于客户1，分析数据集中RM在[5,6),LSTAT在(10,20),PTRATIO在(10,20)的样本。mean为420,933，std为56,503。预测值与均值的距离在一个std以内，比较合理。\n",
    "4. 对于客户2，分析数据集中RM在[4,5),LSTAT在(30,40),PTRATIO在(20,30)的样本。mean为250,250，std为83,857。预测值与均值的距离在一个std以内，比较合理。\n",
    "5. 对于客户3，分析数据集中RM在[8,9),LSTAT在(0,10),PTRATIO在(10,20)的样本。mean为908,100，std为91,512。预测值与均值的距离在一个std以内，比较合理。"
   ]
  },
  {
   "cell_type": "markdown",
   "metadata": {
    "nbpresent": {
     "id": "3a88344c-0580-4342-be60-86c2f53c909f"
    }
   },
   "source": [
    "### 编程练习 5\n",
    "你刚刚预测了三个客户的房子的售价。在这个练习中，你将用你的最优模型在整个测试数据上进行预测, 并计算相对于目标变量的决定系数 R<sup>2</sup>的值**。"
   ]
  },
  {
   "cell_type": "code",
   "execution_count": 16,
   "metadata": {
    "nbpresent": {
     "id": "7786cf60-bfcf-4dc3-b711-b288681b719e"
    }
   },
   "outputs": [
    {
     "name": "stdout",
     "output_type": "stream",
     "text": [
      "Optimal model has R^2 score 0.84 on test data\n"
     ]
    }
   ],
   "source": [
    "#TODO 5\n",
    "\n",
    "# 提示：你可能需要用到 X_test, y_test, optimal_reg, performance_metric\n",
    "# 提示：你可能需要参考问题10的代码进行预测\n",
    "# 提示：你可能需要参考问题3的代码来计算R^2的值\n",
    "\n",
    "y_pred = optimal_reg.predict(X_test)\n",
    "\n",
    "r2 = performance_metric(y_test, y_pred)\n",
    "\n",
    "print \"Optimal model has R^2 score {:,.2f} on test data\".format(r2)"
   ]
  },
  {
   "cell_type": "markdown",
   "metadata": {
    "nbpresent": {
     "id": "f4e19859-a696-432b-bc5a-5355dc01a0ef"
    }
   },
   "source": [
    "### 问题11 - 分析决定系数\n",
    "\n",
    "你刚刚计算了最优模型在测试集上的决定系数，你会如何评价这个结果？"
   ]
  },
  {
   "cell_type": "markdown",
   "metadata": {
    "nbpresent": {
     "id": "ca3c6c78-3f35-424d-a918-099b4e7d8b2e"
    }
   },
   "source": [
    "### 问题11 - 回答\n",
    "0.84 表现较好，说明模型可以较好的反映数据特征。具有较好的泛化能力。"
   ]
  },
  {
   "cell_type": "markdown",
   "metadata": {
    "nbpresent": {
     "id": "064d0cfc-2951-456e-93de-5081b163eda2"
    }
   },
   "source": [
    "### 模型健壮性\n",
    "\n",
    "一个最优的模型不一定是一个健壮模型。有的时候模型会过于复杂或者过于简单，以致于难以泛化新增添的数据；有的时候模型采用的学习算法并不适用于特定的数据结构；有的时候样本本身可能有太多噪点或样本过少，使得模型无法准确地预测目标变量。这些情况下我们会说模型是欠拟合的。\n",
    "\n",
    "### 问题 12 - 模型健壮性\n",
    "\n",
    "模型是否足够健壮来保证预测的一致性？\n",
    "\n",
    "**提示**: 执行下方区域中的代码，采用不同的训练和测试集执行 `fit_model` 函数10次。注意观察对一个特定的客户来说，预测是如何随训练数据的变化而变化的。"
   ]
  },
  {
   "cell_type": "code",
   "execution_count": 17,
   "metadata": {
    "nbpresent": {
     "id": "1fa7df22-4fdd-47ca-b21a-78934d95e45e"
    }
   },
   "outputs": [
    {
     "name": "stdout",
     "output_type": "stream",
     "text": [
      "Trial 1: $422,100.00\n",
      "Trial 2: $411,417.39\n",
      "Trial 3: $415,800.00\n",
      "Trial 4: $420,622.22\n",
      "Trial 5: $413,334.78\n",
      "Trial 6: $411,931.58\n",
      "Trial 7: $390,250.00\n",
      "Trial 8: $414,430.43\n",
      "Trial 9: $402,531.82\n",
      "Trial 10: $413,700.00\n",
      "\n",
      "Range in prices: $31,850.00\n"
     ]
    }
   ],
   "source": [
    "# 请先注释掉 fit_model 函数里的所有 print 语句\n",
    "vs.PredictTrials(features, prices, fit_model, client_data)"
   ]
  },
  {
   "cell_type": "markdown",
   "metadata": {
    "nbpresent": {
     "id": "14e0458f-1bd8-4f72-9294-e5dfa79e6a27"
    }
   },
   "source": [
    "### 问题 12 - 回答：\n",
    "对于同一个客户，range在10%以内。具有足够的健壮性。"
   ]
  },
  {
   "cell_type": "markdown",
   "metadata": {
    "nbpresent": {
     "id": "06aabd00-bef3-4194-9960-75711b9603b9"
    }
   },
   "source": [
    "### 问题 13 - 实用性探讨\n",
    "*简单地讨论一下你建构的模型能否在现实世界中使用？* \n",
    "\n",
    "提示：回答以下几个问题，并给出相应结论的理由：\n",
    "- *1978年所采集的数据，在已考虑通货膨胀的前提下，在今天是否仍然适用？*\n",
    "- *数据中呈现的特征是否足够描述一个房屋？*\n",
    "- *在波士顿这样的大都市采集的数据，能否应用在其它乡镇地区？*\n",
    "- *你觉得仅仅凭房屋所在社区的环境来判断房屋价值合理吗？*"
   ]
  },
  {
   "cell_type": "markdown",
   "metadata": {
    "nbpresent": {
     "id": "26942003-9240-4a64-b60b-a7fa20878139"
    }
   },
   "source": [
    "### 问题 13 - 回答：\n",
    "1. 1978年距离现在时间过于久远，大家对于房子的价值评估标准肯定与40年前完全不同。因此在今天不再适用。\n",
    "2. 特征过于简单，无法完全描述一个房屋的特点。如地段、房屋楼层、房屋年代等。\n",
    "3. 不能应用到乡镇地区，由于乡镇地区人口密度、收入水平、与工作地距离和大都市均不同。因此无法适用。\n",
    "4. 不合理，还需加入房屋自身的一些熟悉，如楼层、面积、年代等。"
   ]
  },
  {
   "cell_type": "markdown",
   "metadata": {
    "nbpresent": {
     "id": "f44bfb25-d429-4c14-8ce6-6356b227dc71"
    }
   },
   "source": [
    "## 可选问题 - 预测北京房价\n",
    "\n",
    "（本题结果不影响项目是否通过）通过上面的实践，相信你对机器学习的一些常用概念有了很好的领悟和掌握。但利用70年代的波士顿房价数据进行建模的确对我们来说意义不是太大。现在你可以把你上面所学应用到北京房价数据集中 `bj_housing.csv`。\n",
    "\n",
    "免责声明：考虑到北京房价受到宏观经济、政策调整等众多因素的直接影响，预测结果仅供参考。\n",
    "\n",
    "这个数据集的特征有：\n",
    "- Area：房屋面积，平方米\n",
    "- Room：房间数，间\n",
    "- Living: 厅数，间\n",
    "- School: 是否为学区房，0或1\n",
    "- Year: 房屋建造时间，年\n",
    "- Floor: 房屋所处楼层，层\n",
    "\n",
    "目标变量：\n",
    "- Value: 房屋人民币售价，万\n",
    "\n",
    "你可以参考上面学到的内容，拿这个数据集来练习数据分割与重排、定义衡量标准、训练模型、评价模型表现、使用网格搜索配合交叉验证对参数进行调优并选出最佳参数，比较两者的差别，最终得出最佳模型对验证集的预测分数。"
   ]
  },
  {
   "cell_type": "code",
   "execution_count": 18,
   "metadata": {
    "nbpresent": {
     "id": "4803f2eb-2704-463c-8ff6-7f61b7bf2832"
    },
    "scrolled": false
   },
   "outputs": [
    {
     "data": {
      "text/html": [
       "<div>\n",
       "<style scoped>\n",
       "    .dataframe tbody tr th:only-of-type {\n",
       "        vertical-align: middle;\n",
       "    }\n",
       "\n",
       "    .dataframe tbody tr th {\n",
       "        vertical-align: top;\n",
       "    }\n",
       "\n",
       "    .dataframe thead th {\n",
       "        text-align: right;\n",
       "    }\n",
       "</style>\n",
       "<table border=\"1\" class=\"dataframe\">\n",
       "  <thead>\n",
       "    <tr style=\"text-align: right;\">\n",
       "      <th></th>\n",
       "      <th>Area</th>\n",
       "      <th>Room</th>\n",
       "      <th>Living</th>\n",
       "      <th>School</th>\n",
       "      <th>Year</th>\n",
       "      <th>Floor</th>\n",
       "    </tr>\n",
       "  </thead>\n",
       "  <tbody>\n",
       "    <tr>\n",
       "      <th>count</th>\n",
       "      <td>9999.000000</td>\n",
       "      <td>9999.000000</td>\n",
       "      <td>9999.000000</td>\n",
       "      <td>9999.000000</td>\n",
       "      <td>9999.000000</td>\n",
       "      <td>9999.000000</td>\n",
       "    </tr>\n",
       "    <tr>\n",
       "      <th>mean</th>\n",
       "      <td>92.003900</td>\n",
       "      <td>2.156216</td>\n",
       "      <td>1.277628</td>\n",
       "      <td>0.583958</td>\n",
       "      <td>1998.235524</td>\n",
       "      <td>13.326433</td>\n",
       "    </tr>\n",
       "    <tr>\n",
       "      <th>std</th>\n",
       "      <td>46.263242</td>\n",
       "      <td>0.791407</td>\n",
       "      <td>0.524963</td>\n",
       "      <td>0.492925</td>\n",
       "      <td>13.126885</td>\n",
       "      <td>7.953371</td>\n",
       "    </tr>\n",
       "    <tr>\n",
       "      <th>min</th>\n",
       "      <td>14.000000</td>\n",
       "      <td>1.000000</td>\n",
       "      <td>0.000000</td>\n",
       "      <td>0.000000</td>\n",
       "      <td>1014.000000</td>\n",
       "      <td>0.000000</td>\n",
       "    </tr>\n",
       "    <tr>\n",
       "      <th>25%</th>\n",
       "      <td>61.000000</td>\n",
       "      <td>2.000000</td>\n",
       "      <td>1.000000</td>\n",
       "      <td>0.000000</td>\n",
       "      <td>1993.500000</td>\n",
       "      <td>6.000000</td>\n",
       "    </tr>\n",
       "    <tr>\n",
       "      <th>50%</th>\n",
       "      <td>83.000000</td>\n",
       "      <td>2.000000</td>\n",
       "      <td>1.000000</td>\n",
       "      <td>1.000000</td>\n",
       "      <td>2000.000000</td>\n",
       "      <td>12.000000</td>\n",
       "    </tr>\n",
       "    <tr>\n",
       "      <th>75%</th>\n",
       "      <td>110.000000</td>\n",
       "      <td>3.000000</td>\n",
       "      <td>2.000000</td>\n",
       "      <td>1.000000</td>\n",
       "      <td>2004.000000</td>\n",
       "      <td>19.000000</td>\n",
       "    </tr>\n",
       "    <tr>\n",
       "      <th>max</th>\n",
       "      <td>1124.000000</td>\n",
       "      <td>9.000000</td>\n",
       "      <td>4.000000</td>\n",
       "      <td>1.000000</td>\n",
       "      <td>2015.000000</td>\n",
       "      <td>91.000000</td>\n",
       "    </tr>\n",
       "  </tbody>\n",
       "</table>\n",
       "</div>"
      ],
      "text/plain": [
       "              Area         Room       Living       School         Year  \\\n",
       "count  9999.000000  9999.000000  9999.000000  9999.000000  9999.000000   \n",
       "mean     92.003900     2.156216     1.277628     0.583958  1998.235524   \n",
       "std      46.263242     0.791407     0.524963     0.492925    13.126885   \n",
       "min      14.000000     1.000000     0.000000     0.000000  1014.000000   \n",
       "25%      61.000000     2.000000     1.000000     0.000000  1993.500000   \n",
       "50%      83.000000     2.000000     1.000000     1.000000  2000.000000   \n",
       "75%     110.000000     3.000000     2.000000     1.000000  2004.000000   \n",
       "max    1124.000000     9.000000     4.000000     1.000000  2015.000000   \n",
       "\n",
       "             Floor  \n",
       "count  9999.000000  \n",
       "mean     13.326433  \n",
       "std       7.953371  \n",
       "min       0.000000  \n",
       "25%       6.000000  \n",
       "50%      12.000000  \n",
       "75%      19.000000  \n",
       "max      91.000000  "
      ]
     },
     "execution_count": 18,
     "metadata": {},
     "output_type": "execute_result"
    }
   ],
   "source": [
    "# TODO 6\n",
    "\n",
    "# 你的代码\n",
    "data_bj = pd.read_csv(\"bj_housing.csv\")\n",
    "\n",
    "X = data_bj.drop(\"Value\", axis=1)\n",
    "y = data_bj.Value\n",
    "X.describe()"
   ]
  },
  {
   "cell_type": "code",
   "execution_count": 19,
   "metadata": {
    "collapsed": true
   },
   "outputs": [],
   "source": [
    "from sklearn.preprocessing import StandardScaler\n",
    "\n",
    "scaler = StandardScaler()\n",
    "X = scaler.fit_transform(X)"
   ]
  },
  {
   "cell_type": "code",
   "execution_count": 20,
   "metadata": {
    "collapsed": true
   },
   "outputs": [],
   "source": [
    "X_train, X_test, y_train, y_test = train_test_split(X, y, test_size=0.2, random_state=42)"
   ]
  },
  {
   "cell_type": "code",
   "execution_count": 21,
   "metadata": {},
   "outputs": [
    {
     "data": {
      "text/plain": [
       "0.55166671604834971"
      ]
     },
     "execution_count": 21,
     "metadata": {},
     "output_type": "execute_result"
    }
   ],
   "source": [
    "reg = DecisionTreeRegressor()\n",
    "param = {\"max_depth\": range(1,10)}\n",
    "grid = GridSearchCV(reg, param, cv = 10, scoring=\"r2\")\n",
    "grid.fit(X_train, y_train)\n",
    "grid.best_score_"
   ]
  },
  {
   "cell_type": "code",
   "execution_count": 22,
   "metadata": {},
   "outputs": [
    {
     "data": {
      "text/plain": [
       "0.5797435249020525"
      ]
     },
     "execution_count": 22,
     "metadata": {},
     "output_type": "execute_result"
    }
   ],
   "source": [
    "from sklearn.metrics import r2_score\n",
    "r2_score(y_test, grid.predict(X_test))"
   ]
  },
  {
   "cell_type": "code",
   "execution_count": 23,
   "metadata": {},
   "outputs": [
    {
     "data": {
      "text/plain": [
       "{'max_depth': 6}"
      ]
     },
     "execution_count": 23,
     "metadata": {},
     "output_type": "execute_result"
    }
   ],
   "source": [
    "grid.best_params_"
   ]
  },
  {
   "cell_type": "code",
   "execution_count": 24,
   "metadata": {},
   "outputs": [
    {
     "data": {
      "text/html": [
       "<div>\n",
       "<style scoped>\n",
       "    .dataframe tbody tr th:only-of-type {\n",
       "        vertical-align: middle;\n",
       "    }\n",
       "\n",
       "    .dataframe tbody tr th {\n",
       "        vertical-align: top;\n",
       "    }\n",
       "\n",
       "    .dataframe thead th {\n",
       "        text-align: right;\n",
       "    }\n",
       "</style>\n",
       "<table border=\"1\" class=\"dataframe\">\n",
       "  <thead>\n",
       "    <tr style=\"text-align: right;\">\n",
       "      <th></th>\n",
       "      <th>mean_fit_time</th>\n",
       "      <th>mean_score_time</th>\n",
       "      <th>mean_test_score</th>\n",
       "      <th>mean_train_score</th>\n",
       "      <th>param_max_depth</th>\n",
       "      <th>params</th>\n",
       "      <th>rank_test_score</th>\n",
       "      <th>split0_test_score</th>\n",
       "      <th>split0_train_score</th>\n",
       "      <th>split1_test_score</th>\n",
       "      <th>...</th>\n",
       "      <th>split7_test_score</th>\n",
       "      <th>split7_train_score</th>\n",
       "      <th>split8_test_score</th>\n",
       "      <th>split8_train_score</th>\n",
       "      <th>split9_test_score</th>\n",
       "      <th>split9_train_score</th>\n",
       "      <th>std_fit_time</th>\n",
       "      <th>std_score_time</th>\n",
       "      <th>std_test_score</th>\n",
       "      <th>std_train_score</th>\n",
       "    </tr>\n",
       "  </thead>\n",
       "  <tbody>\n",
       "    <tr>\n",
       "      <th>0</th>\n",
       "      <td>0.001678</td>\n",
       "      <td>0.000325</td>\n",
       "      <td>0.300385</td>\n",
       "      <td>0.287294</td>\n",
       "      <td>1</td>\n",
       "      <td>{u'max_depth': 1}</td>\n",
       "      <td>9</td>\n",
       "      <td>0.215840</td>\n",
       "      <td>0.300126</td>\n",
       "      <td>0.335607</td>\n",
       "      <td>...</td>\n",
       "      <td>0.383178</td>\n",
       "      <td>0.279392</td>\n",
       "      <td>0.264424</td>\n",
       "      <td>0.287543</td>\n",
       "      <td>0.336909</td>\n",
       "      <td>0.282122</td>\n",
       "      <td>0.000168</td>\n",
       "      <td>0.000014</td>\n",
       "      <td>0.053982</td>\n",
       "      <td>0.008114</td>\n",
       "    </tr>\n",
       "    <tr>\n",
       "      <th>1</th>\n",
       "      <td>0.002789</td>\n",
       "      <td>0.000355</td>\n",
       "      <td>0.325418</td>\n",
       "      <td>0.498777</td>\n",
       "      <td>2</td>\n",
       "      <td>{u'max_depth': 2}</td>\n",
       "      <td>8</td>\n",
       "      <td>0.407657</td>\n",
       "      <td>0.505811</td>\n",
       "      <td>0.305519</td>\n",
       "      <td>...</td>\n",
       "      <td>0.457130</td>\n",
       "      <td>0.494646</td>\n",
       "      <td>0.276690</td>\n",
       "      <td>0.502685</td>\n",
       "      <td>0.421366</td>\n",
       "      <td>0.498483</td>\n",
       "      <td>0.000422</td>\n",
       "      <td>0.000040</td>\n",
       "      <td>0.211768</td>\n",
       "      <td>0.007549</td>\n",
       "    </tr>\n",
       "    <tr>\n",
       "      <th>2</th>\n",
       "      <td>0.003810</td>\n",
       "      <td>0.000348</td>\n",
       "      <td>0.491852</td>\n",
       "      <td>0.640496</td>\n",
       "      <td>3</td>\n",
       "      <td>{u'max_depth': 3}</td>\n",
       "      <td>7</td>\n",
       "      <td>0.773955</td>\n",
       "      <td>0.610104</td>\n",
       "      <td>0.482807</td>\n",
       "      <td>...</td>\n",
       "      <td>0.529315</td>\n",
       "      <td>0.654798</td>\n",
       "      <td>0.417781</td>\n",
       "      <td>0.657745</td>\n",
       "      <td>0.586194</td>\n",
       "      <td>0.650702</td>\n",
       "      <td>0.000355</td>\n",
       "      <td>0.000006</td>\n",
       "      <td>0.277518</td>\n",
       "      <td>0.016023</td>\n",
       "    </tr>\n",
       "    <tr>\n",
       "      <th>3</th>\n",
       "      <td>0.004684</td>\n",
       "      <td>0.000358</td>\n",
       "      <td>0.514547</td>\n",
       "      <td>0.678126</td>\n",
       "      <td>4</td>\n",
       "      <td>{u'max_depth': 4}</td>\n",
       "      <td>5</td>\n",
       "      <td>0.764568</td>\n",
       "      <td>0.653123</td>\n",
       "      <td>0.436054</td>\n",
       "      <td>...</td>\n",
       "      <td>0.552218</td>\n",
       "      <td>0.692739</td>\n",
       "      <td>0.491663</td>\n",
       "      <td>0.694943</td>\n",
       "      <td>0.616535</td>\n",
       "      <td>0.692578</td>\n",
       "      <td>0.000065</td>\n",
       "      <td>0.000015</td>\n",
       "      <td>0.274984</td>\n",
       "      <td>0.015512</td>\n",
       "    </tr>\n",
       "    <tr>\n",
       "      <th>4</th>\n",
       "      <td>0.005710</td>\n",
       "      <td>0.000369</td>\n",
       "      <td>0.532328</td>\n",
       "      <td>0.712172</td>\n",
       "      <td>5</td>\n",
       "      <td>{u'max_depth': 5}</td>\n",
       "      <td>4</td>\n",
       "      <td>0.780483</td>\n",
       "      <td>0.696341</td>\n",
       "      <td>0.426303</td>\n",
       "      <td>...</td>\n",
       "      <td>0.573921</td>\n",
       "      <td>0.722490</td>\n",
       "      <td>0.531031</td>\n",
       "      <td>0.719313</td>\n",
       "      <td>0.589662</td>\n",
       "      <td>0.721346</td>\n",
       "      <td>0.000080</td>\n",
       "      <td>0.000014</td>\n",
       "      <td>0.278964</td>\n",
       "      <td>0.009964</td>\n",
       "    </tr>\n",
       "    <tr>\n",
       "      <th>5</th>\n",
       "      <td>0.006624</td>\n",
       "      <td>0.000382</td>\n",
       "      <td>0.551667</td>\n",
       "      <td>0.747839</td>\n",
       "      <td>6</td>\n",
       "      <td>{u'max_depth': 6}</td>\n",
       "      <td>1</td>\n",
       "      <td>0.775402</td>\n",
       "      <td>0.726078</td>\n",
       "      <td>0.457537</td>\n",
       "      <td>...</td>\n",
       "      <td>0.584666</td>\n",
       "      <td>0.767214</td>\n",
       "      <td>0.609136</td>\n",
       "      <td>0.746221</td>\n",
       "      <td>0.638032</td>\n",
       "      <td>0.770432</td>\n",
       "      <td>0.000055</td>\n",
       "      <td>0.000019</td>\n",
       "      <td>0.314317</td>\n",
       "      <td>0.014000</td>\n",
       "    </tr>\n",
       "    <tr>\n",
       "      <th>6</th>\n",
       "      <td>0.007502</td>\n",
       "      <td>0.000391</td>\n",
       "      <td>0.550837</td>\n",
       "      <td>0.778687</td>\n",
       "      <td>7</td>\n",
       "      <td>{u'max_depth': 7}</td>\n",
       "      <td>2</td>\n",
       "      <td>0.809396</td>\n",
       "      <td>0.769681</td>\n",
       "      <td>0.463456</td>\n",
       "      <td>...</td>\n",
       "      <td>0.598636</td>\n",
       "      <td>0.788080</td>\n",
       "      <td>0.622301</td>\n",
       "      <td>0.775197</td>\n",
       "      <td>0.624345</td>\n",
       "      <td>0.799035</td>\n",
       "      <td>0.000080</td>\n",
       "      <td>0.000014</td>\n",
       "      <td>0.321326</td>\n",
       "      <td>0.012905</td>\n",
       "    </tr>\n",
       "    <tr>\n",
       "      <th>7</th>\n",
       "      <td>0.011468</td>\n",
       "      <td>0.000411</td>\n",
       "      <td>0.550468</td>\n",
       "      <td>0.805688</td>\n",
       "      <td>8</td>\n",
       "      <td>{u'max_depth': 8}</td>\n",
       "      <td>3</td>\n",
       "      <td>0.817843</td>\n",
       "      <td>0.797063</td>\n",
       "      <td>0.514956</td>\n",
       "      <td>...</td>\n",
       "      <td>0.630383</td>\n",
       "      <td>0.815361</td>\n",
       "      <td>0.614045</td>\n",
       "      <td>0.814974</td>\n",
       "      <td>0.577041</td>\n",
       "      <td>0.820555</td>\n",
       "      <td>0.004027</td>\n",
       "      <td>0.000017</td>\n",
       "      <td>0.323468</td>\n",
       "      <td>0.011390</td>\n",
       "    </tr>\n",
       "    <tr>\n",
       "      <th>8</th>\n",
       "      <td>0.009393</td>\n",
       "      <td>0.000418</td>\n",
       "      <td>0.512689</td>\n",
       "      <td>0.833756</td>\n",
       "      <td>9</td>\n",
       "      <td>{u'max_depth': 9}</td>\n",
       "      <td>6</td>\n",
       "      <td>0.810541</td>\n",
       "      <td>0.822786</td>\n",
       "      <td>0.517777</td>\n",
       "      <td>...</td>\n",
       "      <td>0.628090</td>\n",
       "      <td>0.840061</td>\n",
       "      <td>0.643407</td>\n",
       "      <td>0.837747</td>\n",
       "      <td>0.570222</td>\n",
       "      <td>0.842681</td>\n",
       "      <td>0.000068</td>\n",
       "      <td>0.000038</td>\n",
       "      <td>0.453319</td>\n",
       "      <td>0.008891</td>\n",
       "    </tr>\n",
       "  </tbody>\n",
       "</table>\n",
       "<p>9 rows × 31 columns</p>\n",
       "</div>"
      ],
      "text/plain": [
       "   mean_fit_time  mean_score_time  mean_test_score  mean_train_score  \\\n",
       "0       0.001678         0.000325         0.300385          0.287294   \n",
       "1       0.002789         0.000355         0.325418          0.498777   \n",
       "2       0.003810         0.000348         0.491852          0.640496   \n",
       "3       0.004684         0.000358         0.514547          0.678126   \n",
       "4       0.005710         0.000369         0.532328          0.712172   \n",
       "5       0.006624         0.000382         0.551667          0.747839   \n",
       "6       0.007502         0.000391         0.550837          0.778687   \n",
       "7       0.011468         0.000411         0.550468          0.805688   \n",
       "8       0.009393         0.000418         0.512689          0.833756   \n",
       "\n",
       "  param_max_depth             params  rank_test_score  split0_test_score  \\\n",
       "0               1  {u'max_depth': 1}                9           0.215840   \n",
       "1               2  {u'max_depth': 2}                8           0.407657   \n",
       "2               3  {u'max_depth': 3}                7           0.773955   \n",
       "3               4  {u'max_depth': 4}                5           0.764568   \n",
       "4               5  {u'max_depth': 5}                4           0.780483   \n",
       "5               6  {u'max_depth': 6}                1           0.775402   \n",
       "6               7  {u'max_depth': 7}                2           0.809396   \n",
       "7               8  {u'max_depth': 8}                3           0.817843   \n",
       "8               9  {u'max_depth': 9}                6           0.810541   \n",
       "\n",
       "   split0_train_score  split1_test_score       ...         split7_test_score  \\\n",
       "0            0.300126           0.335607       ...                  0.383178   \n",
       "1            0.505811           0.305519       ...                  0.457130   \n",
       "2            0.610104           0.482807       ...                  0.529315   \n",
       "3            0.653123           0.436054       ...                  0.552218   \n",
       "4            0.696341           0.426303       ...                  0.573921   \n",
       "5            0.726078           0.457537       ...                  0.584666   \n",
       "6            0.769681           0.463456       ...                  0.598636   \n",
       "7            0.797063           0.514956       ...                  0.630383   \n",
       "8            0.822786           0.517777       ...                  0.628090   \n",
       "\n",
       "   split7_train_score  split8_test_score  split8_train_score  \\\n",
       "0            0.279392           0.264424            0.287543   \n",
       "1            0.494646           0.276690            0.502685   \n",
       "2            0.654798           0.417781            0.657745   \n",
       "3            0.692739           0.491663            0.694943   \n",
       "4            0.722490           0.531031            0.719313   \n",
       "5            0.767214           0.609136            0.746221   \n",
       "6            0.788080           0.622301            0.775197   \n",
       "7            0.815361           0.614045            0.814974   \n",
       "8            0.840061           0.643407            0.837747   \n",
       "\n",
       "   split9_test_score  split9_train_score  std_fit_time  std_score_time  \\\n",
       "0           0.336909            0.282122      0.000168        0.000014   \n",
       "1           0.421366            0.498483      0.000422        0.000040   \n",
       "2           0.586194            0.650702      0.000355        0.000006   \n",
       "3           0.616535            0.692578      0.000065        0.000015   \n",
       "4           0.589662            0.721346      0.000080        0.000014   \n",
       "5           0.638032            0.770432      0.000055        0.000019   \n",
       "6           0.624345            0.799035      0.000080        0.000014   \n",
       "7           0.577041            0.820555      0.004027        0.000017   \n",
       "8           0.570222            0.842681      0.000068        0.000038   \n",
       "\n",
       "   std_test_score  std_train_score  \n",
       "0        0.053982         0.008114  \n",
       "1        0.211768         0.007549  \n",
       "2        0.277518         0.016023  \n",
       "3        0.274984         0.015512  \n",
       "4        0.278964         0.009964  \n",
       "5        0.314317         0.014000  \n",
       "6        0.321326         0.012905  \n",
       "7        0.323468         0.011390  \n",
       "8        0.453319         0.008891  \n",
       "\n",
       "[9 rows x 31 columns]"
      ]
     },
     "execution_count": 24,
     "metadata": {},
     "output_type": "execute_result"
    }
   ],
   "source": [
    "pd.DataFrame(grid.cv_results_)"
   ]
  },
  {
   "cell_type": "markdown",
   "metadata": {
    "nbpresent": {
     "id": "909770fd-3c39-434d-a896-9a4776521224"
    }
   },
   "source": [
    "### 问题14 - 北京房价预测\n",
    "你成功的用新的数据集构建了模型了吗？他能对测试数据进行验证吗？它的表现是否符合你的预期？交叉验证是否有助于提升你模型的表现？\n",
    "\n",
    "**提示：**如果你是从零开始构建机器学习的代码会让你一时觉得无从下手。这时不要着急，你要做的只是查看之前写的代码，把每一行都看明白，然后逐步构建你的模型。当中遇到什么问题也可以在我们论坛寻找答案。也许你会发现你所构建的模型的表现并没有达到你的预期，这说明机器学习并非是一项简单的任务，构建一个表现良好的模型需要长时间的研究和测试。这也是我们接下来的课程中会逐渐学到的。"
   ]
  },
  {
   "cell_type": "markdown",
   "metadata": {
    "nbpresent": {
     "id": "8263c5e0-6874-4993-a6e4-b39f76cc2b78"
    }
   },
   "source": [
    "### 问题14 - 回答\n",
    "已按之前学习的知识自己构建了模型，表现一般，最优参数的验证集r2只有0.55。而测试集的r2更高，为0.58。  \n",
    "交叉验证可以更好的发现模型参数组合，提升模型表现。"
   ]
  }
 ],
 "metadata": {
  "kernelspec": {
   "display_name": "Python 2",
   "language": "python",
   "name": "python2"
  },
  "language_info": {
   "codemirror_mode": {
    "name": "ipython",
    "version": 2
   },
   "file_extension": ".py",
   "mimetype": "text/x-python",
   "name": "python",
   "nbconvert_exporter": "python",
   "pygments_lexer": "ipython2",
   "version": "2.7.14"
  }
 },
 "nbformat": 4,
 "nbformat_minor": 1
}
